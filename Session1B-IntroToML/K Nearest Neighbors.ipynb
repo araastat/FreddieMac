{
 "cells": [
  {
   "cell_type": "code",
   "execution_count": 9,
   "metadata": {
    "collapsed": true
   },
   "outputs": [],
   "source": [
    "import numpy as np"
   ]
  },
  {
   "cell_type": "code",
   "execution_count": 10,
   "metadata": {
    "collapsed": true
   },
   "outputs": [],
   "source": [
    "rng = np.random.RandomState(45)\n",
    "X = rng.rand(10,2)"
   ]
  },
  {
   "cell_type": "code",
   "execution_count": 11,
   "metadata": {
    "collapsed": true
   },
   "outputs": [],
   "source": [
    "import matplotlib.pyplot as plt\n",
    "%matplotlib inline"
   ]
  },
  {
   "cell_type": "code",
   "execution_count": 12,
   "metadata": {},
   "outputs": [
    {
     "data": {
      "image/png": "[encoded data removed]",
      "text/plain": [
       "<matplotlib.figure.Figure at 0x119b98940>"
      ]
     },
     "metadata": {},
     "output_type": "display_data"
    }
   ],
   "source": [
    "plt.scatter(X[:,0], X[:,1], s=100);"
   ]
  },
  {
   "cell_type": "code",
   "execution_count": 13,
   "metadata": {
    "collapsed": true
   },
   "outputs": [],
   "source": [
    "dist_sq = np.sum((X[np.newaxis,:,:]-X[:,np.newaxis,:])**2, axis = -1)"
   ]
  },
  {
   "cell_type": "code",
   "execution_count": 14,
   "metadata": {},
   "outputs": [
    {
     "data": {
      "text/plain": [
       "array([ 0.,  0.,  0.,  0.,  0.,  0.,  0.,  0.,  0.,  0.])"
      ]
     },
     "execution_count": 14,
     "metadata": {},
     "output_type": "execute_result"
    }
   ],
   "source": [
    "dist_sq.diagonal()"
   ]
  },
  {
   "cell_type": "code",
   "execution_count": 15,
   "metadata": {},
   "outputs": [
    {
     "data": {
      "text/plain": [
       "array([[0, 6, 8, 5, 7, 2, 9, 1, 4, 3],\n",
       "       [1, 3, 9, 7, 2, 4, 6, 5, 0, 8],\n",
       "       [2, 9, 7, 4, 1, 5, 3, 6, 0, 8],\n",
       "       [3, 1, 9, 4, 2, 7, 5, 6, 0, 8],\n",
       "       [4, 2, 9, 3, 1, 7, 5, 8, 0, 6],\n",
       "       [5, 8, 0, 6, 7, 2, 9, 4, 1, 3],\n",
       "       [6, 0, 8, 5, 7, 2, 9, 1, 4, 3],\n",
       "       [7, 9, 2, 1, 6, 5, 0, 8, 3, 4],\n",
       "       [8, 5, 0, 6, 7, 2, 9, 4, 1, 3],\n",
       "       [9, 7, 2, 1, 3, 4, 5, 6, 0, 8]])"
      ]
     },
     "execution_count": 15,
     "metadata": {},
     "output_type": "execute_result"
    }
   ],
   "source": [
    "nearest = np.argsort(dist_sq, axis=1)\n",
    "nearest"
   ]
  },
  {
   "cell_type": "code",
   "execution_count": 16,
   "metadata": {},
   "outputs": [
    {
     "data": {
      "text/plain": [
       "array([[8, 6, 0, 5, 7, 2, 9, 1, 3, 4],\n",
       "       [3, 1, 9, 7, 2, 4, 6, 5, 8, 0],\n",
       "       [7, 9, 2, 4, 1, 5, 6, 3, 8, 0],\n",
       "       [3, 9, 1, 4, 2, 5, 6, 7, 8, 0],\n",
       "       [2, 4, 9, 3, 1, 7, 5, 8, 0, 6],\n",
       "       [8, 5, 0, 6, 7, 2, 9, 1, 3, 4],\n",
       "       [8, 6, 0, 5, 7, 2, 9, 1, 3, 4],\n",
       "       [9, 7, 2, 1, 6, 5, 0, 3, 8, 4],\n",
       "       [8, 5, 0, 6, 7, 2, 9, 1, 3, 4],\n",
       "       [9, 7, 2, 1, 3, 4, 6, 5, 8, 0]])"
      ]
     },
     "execution_count": 16,
     "metadata": {},
     "output_type": "execute_result"
    }
   ],
   "source": [
    "K = 2\n",
    "nearest_partition = np.argpartition(dist_sq, K+1, axis=1)\n",
    "nearest_partition"
   ]
  },
  {
   "cell_type": "code",
   "execution_count": 21,
   "metadata": {},
   "outputs": [
    {
     "data": {
      "image/png": "[encoded data removed]",
      "text/plain": [
       "<matplotlib.figure.Figure at 0x11a071630>"
      ]
     },
     "metadata": {},
     "output_type": "display_data"
    }
   ],
   "source": [
    "plt.scatter(X[:,0], X[:,1], s=100)\n",
    "for i in range(X.shape[0]):\n",
    "    for j in nearest_partition[i, :(K+1)]:\n",
    "        plt.plot(*zip(X[i], X[j]), color='black')\n"
   ]
  },
  {
   "cell_type": "code",
   "execution_count": null,
   "metadata": {
    "collapsed": true
   },
   "outputs": [],
   "source": []
  }
 ],
 "metadata": {
  "kernelspec": {
   "display_name": "Python 3",
   "language": "python",
   "name": "python3"
  },
  "language_info": {
   "codemirror_mode": {
    "name": "ipython",
    "version": 3
   },
   "file_extension": ".py",
   "mimetype": "text/x-python",
   "name": "python",
   "nbconvert_exporter": "python",
   "pygments_lexer": "ipython3",
   "version": "3.6.1"
  }
 },
 "nbformat": 4,
 "nbformat_minor": 2
}
